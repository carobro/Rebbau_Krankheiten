{
 "cells": [
  {
   "cell_type": "code",
   "execution_count": 25,
   "metadata": {},
   "outputs": [
    {
     "name": "stdout",
     "output_type": "stream",
     "text": [
      " > POST https://api.fieldclimate.com/v2/chart/image/01208CFC/daily/last/4\n",
      " > 401 Unauthorized\n",
      "{'message': 'Unauthorized. The request requires user authentication, refer to '\n",
      "            'documentation for more information.'}\n"
     ]
    }
   ],
   "source": [
    "import pprint\n",
    "import fc_api\n",
    "\n",
    "uri = 'https://api.fieldclimate.com/v2'\n",
    "\n",
    "#take this keys from https://ng.fieldclimate.com > User menu > API services > GENERATE NEW\n",
    "publicKey = 'xxx'\n",
    "privateKey = 'xxx'\n",
    "\n",
    "station_id = '01208CFC'     # an example demo station\n",
    "\n",
    "api = fc_api.FcApi(uri, publicKey, privateKey)\n",
    "\n",
    "pprint.pprint(api.post('/chart/image/'+station_id+'/daily/last/4', '{\"name\":\"GeneralGreyMould\"}').json())\n",
    "## hier parameter von chart zu forecast aendern\n",
    "\n"
   ]
  },
  {
   "cell_type": "code",
   "execution_count": null,
   "metadata": {},
   "outputs": [],
   "source": []
  },
  {
   "cell_type": "code",
   "execution_count": null,
   "metadata": {},
   "outputs": [],
   "source": []
  }
 ],
 "metadata": {
  "kernelspec": {
   "display_name": "Python 3",
   "language": "python",
   "name": "python3"
  },
  "language_info": {
   "codemirror_mode": {
    "name": "ipython",
    "version": 3
   },
   "file_extension": ".py",
   "mimetype": "text/x-python",
   "name": "python",
   "nbconvert_exporter": "python",
   "pygments_lexer": "ipython3",
   "version": "3.7.0"
  }
 },
 "nbformat": 4,
 "nbformat_minor": 4
}
